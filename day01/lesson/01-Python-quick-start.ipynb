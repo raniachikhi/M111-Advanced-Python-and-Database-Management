{
 "cells": [
  {
   "cell_type": "markdown",
   "metadata": {
    "id": "M_N8vKTz4GbD"
   },
   "source": [
    "<h1 align=\"center\"> Introduction to Python </h1>\n",
    "\n",
    "### Outlines:\n",
    "- Basic data types\n",
    "- Advaned data types\n",
    "- Conditionals and indentation\n",
    "- For loops\n",
    "- List comprehensions\n",
    "- Functions\n",
    "- Modules"
   ]
  },
  {
   "cell_type": "markdown",
   "metadata": {
    "id": "aoMrBqLXwpVT"
   },
   "source": [
    "## Basic data types\n",
    "In Python, every value has a datatype, but you don’t need to declare the datatype of variables. How does that work? Based on each variable’s original assignment, Python figures out what type it is and keeps tracks of that internally.\n"
   ]
  },
  {
   "cell_type": "markdown",
   "metadata": {
    "id": "cr6oB1VP3lke"
   },
   "source": [
    "### Numbers\n",
    "The integer numbers (e.g. 2, 4, 20) have type int, the ones with a\n",
    "fractional part (e.g. 5.0, 1.6) have type float.\n",
    "Expression syntax is straightforward: the operators +, -, * and / work just like in\n",
    "most other languages; parentheses (()) can be used for grouping.\n",
    "The equal sign (=) is used to assign a value to a variable."
   ]
  },
  {
   "cell_type": "code",
   "execution_count": 1,
   "metadata": {
    "id": "G696UGzTwpVU"
   },
   "outputs": [
    {
     "name": "stdout",
     "output_type": "stream",
     "text": [
      "12\n",
      "20\n",
      "5.0\n",
      "1.3333333333333333\n",
      "164171010688258216356020741663906501410127235530735881272116103087925094171390144280159034536439457734870419127140401667195510331085657185332721089236401193044493457116299768844344303479235489462436380672117015123283299131391904179287678259173308536738761981139958654880852234908448338817289014166774169869251339379828599748492918775437864739032217778051333882990074116246281269364933724892342134504702491040016637557429810893780765197418589477584716543480995722533317862352141459217781316266211186486157019262080414077670264642736018426998113523445732680856144329876972273300703392584997729207197971083945700345494092400147186997307012069454068489589035676979448169848060836924945824197706493306108258511936030341393221586423523264452449403781993352421885094664052270795527632721896121424813173522474674395886155092203404036730748474781710715745446135468098139831824083259647919175273503681561172684624283384438504776503000432241604550454374116320822227191911322123484085063926350606342197146407841178028071147192533942517270553513988142925976090769695456221159699052583533011331652079347093098173086975483539274464023357456484465482927479569437320368592222760278170306076733438801098370797675711274671054970711442158930561684343135774118741594506702833147396758825015850042983343690345185995956235143825771620543546030664562647854656431302644574119873820215595718618624485232422006575550007068883734241454686368856734496265385908809403972494685137741122866896719678053937285818409751670320140501843039224040735870096889596273419106389103662095318937990625980136711988237421962315266686856089505981438440850638067589321141759499017023839596858455548192000140085142294166987063499024792681334843159790936321351919859758669569200541507612099780909705198902176026219872201715422096090343686272984351441594569506778041062663266799342793856313801540959815845788584759033248828248561586450271172777240971795656082001848115815260930521663167480173886064019118572778281516735157779555888167787064432558595410843987446497881666288423233170060413025924629950477303342180149398926073618582715358742250388958231281694757980523791263699450732952325727664209947786063982561775327638504516918570101319391698412388607603742484414748268389669129118026878969735782286841116842656410574647607524418900720328045377993386279808768990376289424757351052369393977137871998119168898493037938756635621557623138404459266598837784229325799838782026060481496865561757031839002257091802876949248392744175669112242088439883248336310597001257385980776961529351198877747193531054956881808332177946751404038228718567911769630971553915410012677600002457982207465176670752102117002773980548089696530972476439694599881281812973217265853884727906535479745854085338851105144585481994156206497436745899944877732531412541279014300324594890623941145509856940982863769834430048120562966797907114102689879364945689860493474954538422367719507882513166051007352994068319251450666676648368200564329382998758875760414259654004977261309988267319806354856051784553990936610634733375984159028722378614984450255386315585631994503350002142910493190254825610707400589976364985748467955131077971641882672895854571236368282811336220769174784720113331269084746524204124263475054112841630933586166195036115696469686075600480420563557567616835633252622327172811002146392754445051182169805284630259703542633955126179520113059629914229833688535925729676778028406897316106101038469119090984567152591962365415039646394591503830797626339246986057077758611413664914168745375266786298141171496573941614387744125843685677063619782918759823106021054037757857761587472240835040580447360544029064930412569943169729238102162312218687930203068055400275795180972382856696655279408212344832\n"
     ]
    },
    {
     "ename": "OverflowError",
     "evalue": "(34, 'Result too large')",
     "output_type": "error",
     "traceback": [
      "\u001b[1;31m---------------------------------------------------------------------------\u001b[0m",
      "\u001b[1;31mOverflowError\u001b[0m                             Traceback (most recent call last)",
      "\u001b[1;32m~\\AppData\\Local\\Temp/ipykernel_11792/3817937612.py\u001b[0m in \u001b[0;36m<module>\u001b[1;34m\u001b[0m\n\u001b[0;32m      4\u001b[0m \u001b[0mprint\u001b[0m\u001b[1;33m(\u001b[0m\u001b[1;36m8.0\u001b[0m \u001b[1;33m/\u001b[0m \u001b[1;36m6\u001b[0m\u001b[1;33m)\u001b[0m\u001b[1;33m\u001b[0m\u001b[1;33m\u001b[0m\u001b[0m\n\u001b[0;32m      5\u001b[0m \u001b[0mprint\u001b[0m\u001b[1;33m(\u001b[0m\u001b[1;36m2\u001b[0m\u001b[1;33m**\u001b[0m\u001b[1;36m12345\u001b[0m\u001b[1;33m)\u001b[0m\u001b[1;33m\u001b[0m\u001b[1;33m\u001b[0m\u001b[0m\n\u001b[1;32m----> 6\u001b[1;33m \u001b[0mprint\u001b[0m\u001b[1;33m(\u001b[0m\u001b[1;36m2.0\u001b[0m \u001b[1;33m**\u001b[0m \u001b[1;36m12347\u001b[0m\u001b[1;33m)\u001b[0m\u001b[1;33m\u001b[0m\u001b[1;33m\u001b[0m\u001b[0m\n\u001b[0m",
      "\u001b[1;31mOverflowError\u001b[0m: (34, 'Result too large')"
     ]
    }
   ],
   "source": [
    "print(2 + 10)\n",
    "print(50 - 5*6)\n",
    "print((50 - 5.0*6) / 4)\n",
    "print(8.0 / 6)\n",
    "print(2**12345)\n",
    "print(2.0 ** 12347)"
   ]
  },
  {
   "cell_type": "markdown",
   "metadata": {},
   "source": [
    "## Booleans\n",
    "\n",
    "Booleans are either true or false. Python has two constants, cleverly named `True` and `False`, which can be used to assign **boolean** values directly. Expressions can also evaluate to a boolean value."
   ]
  },
  {
   "cell_type": "code",
   "execution_count": 2,
   "metadata": {},
   "outputs": [],
   "source": [
    "size = 1"
   ]
  },
  {
   "cell_type": "markdown",
   "metadata": {},
   "source": [
    "**size** is an integer, 0 is an integer, and < is a numerical operator. The result of the expression **size < 0** is always a boolean. You can test this yourself in the Python interactive shell:"
   ]
  },
  {
   "cell_type": "code",
   "execution_count": 3,
   "metadata": {},
   "outputs": [
    {
     "data": {
      "text/plain": [
       "False"
      ]
     },
     "execution_count": 3,
     "metadata": {},
     "output_type": "execute_result"
    }
   ],
   "source": [
    "size < 0"
   ]
  },
  {
   "cell_type": "code",
   "execution_count": 4,
   "metadata": {},
   "outputs": [
    {
     "data": {
      "text/plain": [
       "False"
      ]
     },
     "execution_count": 4,
     "metadata": {},
     "output_type": "execute_result"
    }
   ],
   "source": [
    "size == 0"
   ]
  },
  {
   "cell_type": "code",
   "execution_count": 5,
   "metadata": {},
   "outputs": [
    {
     "data": {
      "text/plain": [
       "True"
      ]
     },
     "execution_count": 5,
     "metadata": {},
     "output_type": "execute_result"
    }
   ],
   "source": [
    "size = -1\n",
    "size < 0"
   ]
  },
  {
   "cell_type": "markdown",
   "metadata": {},
   "source": [
    "Due to some legacy issues left over from Python 2, booleans can be treated as numbers. True is 1; False is 0.\n",
    "\n",
    "```python\n",
    ">>> True + True\n",
    "2\n",
    ">>> True - False\n",
    "1\n",
    ">>> True * False\n",
    "0\n",
    ">>> True / False\n",
    "Traceback (most recent call last):\n",
    "  File \"<stdin>\", line 1, in <module>\n",
    "ZeroDivisionError: int division or modulo by zero\n",
    "```\n",
    "\n",
    "**Don’t do that**. Forget I even mentioned it."
   ]
  },
  {
   "cell_type": "markdown",
   "metadata": {},
   "source": [
    "### Coercing Integers To Float And Vice-Versa\n",
    "\n",
    "As you just saw, some operators (like addition) will coerce integers to floating point numbers as needed. You can also coerce them by yourself.\n",
    "\n",
    "skip over this code listing\n",
    "\n",
    "```python\n",
    ">>> float(2) ①\n",
    "2.0\n",
    ">>> int(2.0) ②\n",
    "2\n",
    ">>> int(2.5) ③\n",
    "2\n",
    ">>> int(-2.5) ④\n",
    "-2\n",
    ">>> 1.12345678901234567890 ⑤\n",
    "1.1234567890123457\n",
    ">>> type(1000000000000000) ⑥\n",
    "<class 'int'>\n",
    "```\n",
    "\n",
    "①\tYou can explicitly coerce an **int** to a **float** by calling the **float()** function.\n",
    "\n",
    "②\tUnsurprisingly, you can also coerce a **float** to an **int** by calling **int()**.\n",
    "\n",
    "③\tThe **int()** function will truncate, not round.\n",
    "\n",
    "④\tThe **int()** function truncates negative numbers towards 0. It’s a true truncate function, not a floor function.\n",
    "\n",
    "⑤\tFloating point numbers are accurate to 15 decimal places.\n",
    "\n",
    "⑥\tIntegers can be arbitrarily large."
   ]
  },
  {
   "cell_type": "markdown",
   "metadata": {
    "id": "wQiX6GDnwpVb"
   },
   "source": [
    "### Strings\n",
    "Besides numbers, Python can also manipulate strings, which can be expressed in\n",
    "several ways.\n",
    "They can be enclosed in single quotes ('. . . ') or double quotes (\". . . \") with the\n",
    "same result.\n",
    "String literals can span multiple lines. One way is using triple-quotes: \"\"\". . . \"\"\" or '''. . . '''."
   ]
  },
  {
   "cell_type": "code",
   "execution_count": 6,
   "metadata": {
    "id": "ocAY6tGSwpVc"
   },
   "outputs": [
    {
     "name": "stdout",
     "output_type": "stream",
     "text": [
      "spam eggs\n",
      "doesn't\n",
      "doesn't\n",
      "\"Yes,\" he said.\n",
      "\n",
      " Usage: thingy [OPTIONS]\n",
      "        -h\n",
      "        -H hostname\n",
      "\n"
     ]
    }
   ],
   "source": [
    "print('spam eggs') # single quotes\n",
    "print('doesn\\'t')  # use \\’ to escape the single quote...\n",
    "\n",
    "# ...or use double quotes instead\n",
    "print(\"doesn't\")\n",
    "print('\"Yes,\" he said.')\n",
    "\n",
    "# An example of a multi-line string\n",
    "print(\"\"\"\n",
    " Usage: thingy [OPTIONS]\n",
    "        -h\n",
    "        -H hostname\n",
    "\"\"\")"
   ]
  },
  {
   "cell_type": "markdown",
   "metadata": {
    "id": "lDL6nqXjwpVh"
   },
   "source": [
    "### Lists\n",
    "Python supports many compound data types that group together other values.\n",
    "The most versatile is the list, which can be written as a list of comma-separated\n",
    "values (items) between square brackets.\n",
    "Lists might contain items of different types, but usually the items all have the\n",
    "same type.\n",
    "\n",
    "Lists are mutable data structures (you can change their values).\n",
    "Strings can be indexed like lists, but are immutable.\n",
    "\n",
    "Lists are kind of like arrays (random-access indexing), but can expand and change\n",
    "size."
   ]
  },
  {
   "cell_type": "code",
   "execution_count": 7,
   "metadata": {
    "id": "8fYoL4aLwpVi",
    "scrolled": false
   },
   "outputs": [
    {
     "name": "stdout",
     "output_type": "stream",
     "text": [
      "squares: [1, 4, 9, 16, 25]\n",
      "squares[0]: 1\n",
      "squares[-1]: 25\n",
      "[1, 4, 9, 16, 25, 36]\n",
      "6\n",
      "[9, 16]\n"
     ]
    },
    {
     "data": {
      "text/plain": [
       "[1, 4, 25, 36]"
      ]
     },
     "execution_count": 7,
     "metadata": {},
     "output_type": "execute_result"
    }
   ],
   "source": [
    "# A list of square numbers.\n",
    "squares = [1, 4, 9, 16, 25]\n",
    "print('squares:', squares)\n",
    "\n",
    "# You can access element using square braces.\n",
    "print('squares[0]:', squares[0])\n",
    "\n",
    "# Indexing also works right-to-left\n",
    "print('squares[-1]:', squares[-1])\n",
    "\n",
    "squares.append(36)\n",
    "print(squares)\n",
    "print(len(squares))\n",
    "print(squares[2:4])\n",
    "squares[2:4] = []\n",
    "squares"
   ]
  },
  {
   "cell_type": "markdown",
   "metadata": {},
   "source": [
    "#### Mutable vs Immutable"
   ]
  },
  {
   "cell_type": "code",
   "execution_count": 8,
   "metadata": {},
   "outputs": [
    {
     "name": "stdout",
     "output_type": "stream",
     "text": [
      "list l: [2, 3]\n",
      "adress l: 2083662037632\n",
      "string s: 34\n",
      "adress s: 2083662669936\n",
      "list l: [2, 3, 4]\n",
      "adress l: 2083662037632\n",
      "string s: 345\n",
      "adress s: 2083662541936\n"
     ]
    }
   ],
   "source": [
    "s = \"34\"\n",
    "l = [2, 3]\n",
    "print(\"list l:\", l)\n",
    "print(\"adress l:\", id(l))\n",
    "print(\"string s:\",s)\n",
    "print(\"adress s:\", id(s))\n",
    "s += \"5\"\n",
    "l.append(4)\n",
    "print(\"list l:\", l)\n",
    "print(\"adress l:\", id(l))\n",
    "print(\"string s:\",s)\n",
    "print(\"adress s:\", id(s))"
   ]
  },
  {
   "cell_type": "markdown",
   "metadata": {
    "id": "XiqFcN1xwpVl"
   },
   "source": [
    "Lists are mutable data structures (you can change their values). Strings can be indexed like lists, but are immutable."
   ]
  },
  {
   "cell_type": "code",
   "execution_count": 10,
   "metadata": {
    "id": "8R17V4k1wpVm"
   },
   "outputs": [
    {
     "name": "stdout",
     "output_type": "stream",
     "text": [
      "cubes: [1, 8, 27, 64, 125]\n",
      "foo[3]: 4\n"
     ]
    },
    {
     "data": {
      "text/plain": [
       "False"
      ]
     },
     "execution_count": 10,
     "metadata": {},
     "output_type": "execute_result"
    }
   ],
   "source": [
    "# A list of cubes (with one error)\n",
    "cubes = [1, 8, 27, 65, 125] \n",
    "cubes[3] = 64 # replace the wrong value\n",
    "print('cubes:', cubes)\n",
    "\n",
    "# Try to do same with a string.\n",
    "foo = '1234567'\n",
    "print('foo[3]: ' + foo[3])\n",
    "foo[3] == '9'"
   ]
  },
  {
   "cell_type": "markdown",
   "metadata": {
    "id": "d-004TBhwpVo"
   },
   "source": [
    "### Tuples\n",
    "Tuples are like lists, but are used in different situations and for different things.\n",
    "Tuples are immutable, and usually contain a heterogeneous sequence of elements\n",
    "that are accessed via unpacking (see later example) or indexing."
   ]
  },
  {
   "cell_type": "code",
   "execution_count": 11,
   "metadata": {
    "id": "gs4lLKoKwpVp"
   },
   "outputs": [
    {
     "name": "stdout",
     "output_type": "stream",
     "text": [
      "t[0]:  12345\n",
      "t:  (12345, 54321, 'hello!')\n",
      "(12345, 54321)\n",
      "v:  ([1, 2, 3], [3, 2, 1])\n"
     ]
    },
    {
     "data": {
      "text/plain": [
       "([1, 2, 3, 100], [3, 2, 1])"
      ]
     },
     "execution_count": 11,
     "metadata": {},
     "output_type": "execute_result"
    }
   ],
   "source": [
    "# You can leave the parentheses off, if you like.\n",
    "t = (12345, 54321, 'hello!')\n",
    "print('t[0]: ', t[0])\n",
    "print('t: ', t)\n",
    "print(t[:2])\n",
    "# they can contain mutable objects:\n",
    "v = ([1, 2, 3], [3, 2, 1])\n",
    "print('v: ', v)\n",
    "v[0].append(100)\n",
    "v"
   ]
  },
  {
   "cell_type": "markdown",
   "metadata": {
    "id": "IRNeQ55AwpVu"
   },
   "source": [
    "### Tuple packing and unpacking\n",
    "Tuple construction is referred to as “tuple packing” since you are\n",
    "packing elements together into a single compound data structure.\n",
    "The reverse is also possible, by which tuple values are unpacked into a\n",
    "sequence of variables."
   ]
  },
  {
   "cell_type": "code",
   "execution_count": 12,
   "metadata": {
    "id": "sue6pbeDwpVu"
   },
   "outputs": [
    {
     "name": "stdout",
     "output_type": "stream",
     "text": [
      "Tuple:  (12345, 54321, 'hello!')\n",
      "x:  12345\n",
      "y:  54321\n",
      "z:  hello!\n"
     ]
    },
    {
     "data": {
      "text/plain": [
       "30"
      ]
     },
     "execution_count": 12,
     "metadata": {},
     "output_type": "execute_result"
    }
   ],
   "source": [
    "# Make the tuple.\n",
    "t = (12345, 54321, 'hello!')\n",
    "\n",
    "# Print the value.\n",
    "print('Tuple: ', t)\n",
    "\n",
    "# Unpack the tuple into individual variables.\n",
    "(x, y, z) = t\n",
    "print('x: ', x)\n",
    "print('y: ', y)\n",
    "print('z: ', z)\n",
    "\n",
    "def foo(a, b):\n",
    "    return (a + b, [a * b, float(a) / b])\n",
    "\n",
    "(s, l) = foo(10, 20)\n",
    "s"
   ]
  },
  {
   "cell_type": "code",
   "execution_count": 13,
   "metadata": {
    "id": "QPkoJroH1eN6"
   },
   "outputs": [
    {
     "name": "stdout",
     "output_type": "stream",
     "text": [
      "30\n"
     ]
    }
   ],
   "source": [
    "(s, _) = foo(10, 20)\n",
    "print(s)"
   ]
  },
  {
   "cell_type": "markdown",
   "metadata": {
    "id": "bImjmZb3wpVx"
   },
   "source": [
    "### Dictionaries\n",
    "\n",
    "Python relies heavily on the use of dictionaries to organize access to key/value\n",
    "pairs.\n",
    "Dictionaries are sometimes called hashes, associative arrays, or HashMap in Java\n",
    "and std::Map in C++."
   ]
  },
  {
   "cell_type": "code",
   "execution_count": 14,
   "metadata": {
    "id": "iR9fYqAJwpVy"
   },
   "outputs": [
    {
     "name": "stdout",
     "output_type": "stream",
     "text": [
      "Guido's #:  4127\n",
      "The whole dict:  {'jack': 4098, 'sape': 4139, 'guido': 1234}\n",
      "The keys:  dict_keys(['jack', 'sape', 'guido'])\n",
      "Guido in tel? True\n"
     ]
    },
    {
     "data": {
      "text/plain": [
       "dict_items([('jack', 4098), ('sape', 4139), ('guido', 1234), (10, 1234)])"
      ]
     },
     "execution_count": 14,
     "metadata": {},
     "output_type": "execute_result"
    }
   ],
   "source": [
    "# Map names to numbers.\n",
    "tel = {'jack': 4098, 'sape': 4139}\n",
    "\n",
    "# Add Guido's number.\n",
    "tel['guido'] = 4127\n",
    "\n",
    "# Print some stuff.\n",
    "print('Guido\\'s #: ', tel['guido'])\n",
    "\n",
    "# Change Guido's number.\n",
    "tel['guido'] = 1234\n",
    "\n",
    "print('The whole dict: ', tel)\n",
    "print('The keys: ', tel.keys())\n",
    "\n",
    "# Check if 'guido' is in the keys of dict 'tel'.\n",
    "print('Guido in tel?', 'guido' in tel)\n",
    "\n",
    "tel[10] = 1234\n",
    "\n",
    "tel.items()"
   ]
  },
  {
   "cell_type": "markdown",
   "metadata": {
    "id": "WyZIJqXbwpV1"
   },
   "source": [
    "## Conditionals and indentation\n",
    "The if statement is probably the most common control-flow tool in\n",
    "any programming language.\n",
    "It is also a good example of one of the most controversial syntactic\n",
    "features of Python, the fact that indentation matters.\n",
    "Recall how in most programming languages braces ('{' and '}') are used\n",
    "to indicate scope and logically sequential blocks.\n",
    "In Python, code that is indented at the same level is considered to be\n",
    "in the same block – exactly as if there were enclosing braces.\n",
    "This is used extensively in function definitions, to indicate the logical\n",
    "blocks for if ... then ... else constructions, and in class\n",
    "definitions."
   ]
  },
  {
   "cell_type": "code",
   "execution_count": 15,
   "metadata": {
    "id": "M4toLeemwpV1"
   },
   "outputs": [
    {
     "name": "stdout",
     "output_type": "stream",
     "text": [
      "Please enter an integer: 2\n",
      "More\n"
     ]
    }
   ],
   "source": [
    "x = int(input('Please enter an integer: '))\n",
    "if x < 0:\n",
    "    x = 0\n",
    "    print('Negative changed to zero')\n",
    "elif x == 0:\n",
    "    print('Zero')\n",
    "elif x == 1:\n",
    "    print('Single')\n",
    "else:\n",
    "    print('More')"
   ]
  },
  {
   "cell_type": "markdown",
   "metadata": {
    "id": "ySl1W06GwpV4"
   },
   "source": [
    "## For loops\n",
    "The for statement in Python also uses indented blocks.\n",
    "But, the most important difference is that in Python, for loops are\n",
    "generalized iterators over sequences.\n",
    "In most languages, for loops iterate over ranges of integers, which\n",
    "can then be used to index compound data structures like lists.\n",
    "In Python, iteration is always over a sequence data type like a list.\n",
    "\n",
    "NOTE: In Python 3, range() is an enumerator."
   ]
  },
  {
   "cell_type": "code",
   "execution_count": 17,
   "metadata": {
    "id": "trD3xJzpwpV5"
   },
   "outputs": [
    {
     "name": "stdout",
     "output_type": "stream",
     "text": [
      "range(0, 3)\n",
      "0 cat\n",
      "1 window\n",
      "2 defenestrate\n"
     ]
    }
   ],
   "source": [
    "words = ['cat', 'window', 'defenestrate']\n",
    "print(range(len(words)))\n",
    "for i in range(len(words)):\n",
    "    print(i, words[i])"
   ]
  },
  {
   "cell_type": "code",
   "execution_count": 18,
   "metadata": {
    "id": "YMPdcvjtwpV7",
    "scrolled": true
   },
   "outputs": [
    {
     "data": {
      "text/plain": [
       "[(0, 1), (1, 5), (2, 100), (3, 10000)]"
      ]
     },
     "execution_count": 18,
     "metadata": {},
     "output_type": "execute_result"
    }
   ],
   "source": [
    "list(enumerate([1, 5, 100, 10000]))"
   ]
  },
  {
   "cell_type": "markdown",
   "metadata": {
    "id": "vuLTfQXZwpV-"
   },
   "source": [
    "## Enumerations\n",
    "Sometimes you need list items *and* their indices -- this is\n",
    "        called *enumerating* list items.\n",
    "      You can use ``len()`` and ``range()`` for this.\n",
    "      Or, you can use the ``enumerate()`` function and *unpack* the\n",
    "        pairs."
   ]
  },
  {
   "cell_type": "code",
   "execution_count": 19,
   "metadata": {
    "id": "kULsqVA2wpV_"
   },
   "outputs": [
    {
     "name": "stdout",
     "output_type": "stream",
     "text": [
      "0 Mary\n",
      "1 had\n",
      "2 a\n",
      "3 little\n",
      "4 lamb\n",
      "\n",
      "enum: <enumerate object at 0x000001E523F922C0>\n",
      "list: [(0, 'Mary'), (1, 'had'), (2, 'a'), (3, 'little'), (4, 'lamb')]\n",
      "Foo: 0 Mary\n",
      "Foo: 1 had\n",
      "Foo: 2 a\n",
      "Foo: 3 little\n",
      "Foo: 4 lamb\n"
     ]
    }
   ],
   "source": [
    "# A simple list.\n",
    "a = ['Mary', 'had', 'a', 'little', 'lamb']\n",
    "\n",
    "# Iterate over all indices in the list.\n",
    "for i in range(len(a)):\n",
    "    print(i, a[i])\n",
    "\n",
    "# An enumerate object behaves like a list.    \n",
    "print('\\nenum:', enumerate(a))\n",
    "print('list:', list(enumerate(a)))\n",
    "\n",
    "# Iterate over pairs of (i, name) which have both index and name.\n",
    "for (i, name) in enumerate(a):\n",
    "    print('Foo: {} {}'.format(i, name))"
   ]
  },
  {
   "cell_type": "markdown",
   "metadata": {
    "id": "1wR-JOAUwpWB"
   },
   "source": [
    "## List comprehensions\n",
    "List comprehensions provide a concise way to create lists.\n",
    "Common applications are to make new lists where each element is the result\n",
    "operations applied to each member of another sequence (this is called a map).\n",
    "Or to create a subsequence of those elements that satisfy a certain condition (this\n",
    "is called a filter)."
   ]
  },
  {
   "cell_type": "markdown",
   "metadata": {},
   "source": [
    " `newlist = [expression for item in iterable if condition == True]`"
   ]
  },
  {
   "cell_type": "code",
   "execution_count": 20,
   "metadata": {
    "id": "FgC7ptmHwpWC"
   },
   "outputs": [
    {
     "name": "stdout",
     "output_type": "stream",
     "text": [
      "    lame: [0, 1, 4, 9, 16, 25, 36, 49, 64, 81]\n",
      "not lame: [0, 1, 4, 9, 16, 25, 36, 49, 64, 81]\n"
     ]
    }
   ],
   "source": [
    "# This is the lame way to do this...\n",
    "squares = []\n",
    "for x in range(10):\n",
    "    squares.append(x**2)\n",
    "print('    lame:', squares)\n",
    "\n",
    "# Much better:\n",
    "squares = [x**2 for x in range(10)]\n",
    "print('not lame:', squares) \n",
    "#newlist = [expression for item in squares if condition == True]"
   ]
  },
  {
   "cell_type": "markdown",
   "metadata": {
    "id": "DUeMNBErwpWE"
   },
   "source": [
    "A list comprehension consists of brackets containing an expression followed by a\n",
    "for clause.\n",
    "Then zero or more ''for'' or ''if'' clauses.\n",
    "The result is a new list resulting from evaluating the expression in the context of\n",
    "the for and if clauses which follow it."
   ]
  },
  {
   "cell_type": "code",
   "execution_count": 21,
   "metadata": {
    "id": "B3cDci6PwpWF"
   },
   "outputs": [
    {
     "name": "stdout",
     "output_type": "stream",
     "text": [
      "filter: [0, 4, 16, 36, 64]\n",
      "nested: [(1, 3), (1, 1), (1, 4), (2, 3), (2, 1), (2, 4), (3, 3), (3, 1), (3, 4)]\n"
     ]
    },
    {
     "data": {
      "text/plain": [
       "[3.1, 3.14, 3.142, 3.1416, 3.14159]"
      ]
     },
     "execution_count": 21,
     "metadata": {},
     "output_type": "execute_result"
    }
   ],
   "source": [
    "print('filter:', [x ** 2 for x in range(10) if (x % 2) == 0])\n",
    "print('nested:', [(x, y) for x in [1,2,3] for y in [3,1,4]])\n",
    "\n",
    "# Let's get a bit fancier.\n",
    "from math import pi\n",
    "[round(pi, i) for i in range(1, 6)]"
   ]
  },
  {
   "cell_type": "markdown",
   "metadata": {
    "id": "3k-IXU92wpWI"
   },
   "source": [
    "## Functions\n",
    "Python provides an expressive and flexible syntax for making function definitions.\n",
    "\n",
    "### Function definitions\n",
    "The keyword ''def'' introduces a function definition.\n",
    "It must be followed by the function name and the parenthesized list of\n",
    "formal parameters.\n",
    "The statements that form the body of the function start at the next\n",
    "line, and must be indented."
   ]
  },
  {
   "cell_type": "code",
   "execution_count": 22,
   "metadata": {
    "id": "7jDYebfxwpWJ"
   },
   "outputs": [
    {
     "name": "stdout",
     "output_type": "stream",
     "text": [
      "0\n",
      "1\n",
      "1\n",
      "2\n",
      "3\n",
      "5\n",
      "8\n",
      "13\n",
      "21\n",
      "34\n",
      "55\n",
      "89\n",
      "144\n",
      "233\n",
      "377\n",
      "610\n",
      "987\n",
      "1597\n",
      "Help on function fib in module __main__:\n",
      "\n",
      "fib(n)\n",
      "    Print a Fibonacci series up to n.\n",
      "\n"
     ]
    }
   ],
   "source": [
    "# Print Fibonacci numbers up to n.\n",
    "def fib(n):\n",
    "    \"\"\"Print a Fibonacci series up to n.\"\"\"\n",
    "    a, b = 0, 1\n",
    "    while a < n:\n",
    "        print(a)\n",
    "        a, b = b, a+b  # Note the parallel assignment.\n",
    "\n",
    "# Now call the function we just defined:\n",
    "fib(2000)\n",
    "help(fib)"
   ]
  },
  {
   "cell_type": "markdown",
   "metadata": {
    "id": "OYfjhWFSwpWM"
   },
   "source": [
    "### Docstrings\n",
    "The first statement of the function body can optionally be a string literal\n",
    "This string literal is the function’s documentation string, or docstring.\n",
    "There are tools which use docstrings to automatically produce online or printed\n",
    "documentation, or to let the user interactively browse through code."
   ]
  },
  {
   "cell_type": "code",
   "execution_count": 23,
   "metadata": {
    "id": "1T-DwDgJwpWN"
   },
   "outputs": [
    {
     "name": "stdout",
     "output_type": "stream",
     "text": [
      "100\n",
      "Help on function sq in module __main__:\n",
      "\n",
      "sq(n)\n",
      "    Return the square of n, accepting all numeric types:\n",
      "    \n",
      "    >>> sq(10)\n",
      "    100\n",
      "    \n",
      "    >>> sq(10.434)\n",
      "    108.86835599999999\n",
      "    \n",
      "    Raises a TypeError when input is invalid:\n",
      "    \n",
      "    >>> sq(4*'435')\n",
      "    Traceback (most recent call last):\n",
      "      ...\n",
      "    TypeError: can't multiply sequence by non-int of type 'str'\n",
      "\n"
     ]
    }
   ],
   "source": [
    "def sq(n):\n",
    "    \"\"\"\n",
    "    Return the square of n, accepting all numeric types:\n",
    "\n",
    "    >>> sq(10)\n",
    "    100\n",
    "\n",
    "    >>> sq(10.434)\n",
    "    108.86835599999999\n",
    "\n",
    "    Raises a TypeError when input is invalid:\n",
    "\n",
    "    >>> sq(4*'435')\n",
    "    Traceback (most recent call last):\n",
    "      ...\n",
    "    TypeError: can't multiply sequence by non-int of type 'str'\n",
    "\n",
    "    \"\"\"\n",
    "    return n*n\n",
    "\n",
    "foo = sq\n",
    "print(foo(10))\n",
    "foo.__doc__\n",
    "help(foo)"
   ]
  },
  {
   "cell_type": "markdown",
   "metadata": {
    "id": "HzwDqcCIwpWS"
   },
   "source": [
    "### Default argument values\n",
    "Default values define functions that can be called with fewer\n",
    "        arguments."
   ]
  },
  {
   "cell_type": "code",
   "execution_count": 42,
   "metadata": {
    "id": "SV8518PiwpWS"
   },
   "outputs": [
    {
     "name": "stdout",
     "output_type": "stream",
     "text": [
      "Quit without saving?0\n",
      "Yes or no, please!\n",
      "Quit without saving?n\n"
     ]
    },
    {
     "data": {
      "text/plain": [
       "False"
      ]
     },
     "execution_count": 42,
     "metadata": {},
     "output_type": "execute_result"
    }
   ],
   "source": [
    "def ask_ok(prompt, retries=4, complaint='Yes or no, please!'):\n",
    "    while True:\n",
    "        ok = input(prompt)\n",
    "        if ok in ('y', 'ye', 'yes'):\n",
    "            return True\n",
    "        if ok in ('n', 'no', 'nop', 'nope'):\n",
    "            return False\n",
    "        retries = retries - 1\n",
    "        if retries < 0:\n",
    "            raise IOError('refusenik user')\n",
    "        print(complaint)\n",
    "        \n",
    "ask_ok(prompt='Quit without saving?')"
   ]
  },
  {
   "cell_type": "markdown",
   "metadata": {
    "id": "F0PDOBEOwpWV"
   },
   "source": [
    "### Passing named arguments\n",
    "Default arguments are very powerful in combination with explicit, named argument passing. This allows flexible default fallback."
   ]
  },
  {
   "cell_type": "code",
   "execution_count": 26,
   "metadata": {
    "id": "pSBpxS-wwpWV"
   },
   "outputs": [
    {
     "name": "stdout",
     "output_type": "stream",
     "text": [
      "\n",
      "-- This parrot wouldn't voom if you put 1000 volts through it.\n",
      "-- Lovely plumage, the Norwegian Blue\n",
      "-- It's a stiff !\n",
      "\n",
      "\n",
      "-- This parrot wouldn't voom if you put 1000 volts through it.\n",
      "-- Lovely plumage, the Norwegian Blue\n",
      "-- It's a stiff !\n",
      "\n",
      "\n",
      "-- This parrot wouldn't VOOOOOM if you put 1000000 volts through it.\n",
      "-- Lovely plumage, the Norwegian Blue\n",
      "-- It's a stiff !\n",
      "\n",
      "\n",
      "-- This parrot wouldn't VOOOOOM if you put 1000000 volts through it.\n",
      "-- Lovely plumage, the Norwegian Blue\n",
      "-- It's a stiff !\n",
      "\n",
      "\n",
      "-- This parrot wouldn't jump if you put a million volts through it.\n",
      "-- Lovely plumage, the Norwegian Blue\n",
      "-- It's bereft of life !\n",
      "\n",
      "\n",
      "-- This parrot wouldn't voom if you put a thousand volts through it.\n",
      "-- Lovely plumage, the Norwegian Blue\n",
      "-- It's pushing up the daisies !\n",
      "\n"
     ]
    }
   ],
   "source": [
    "def parrot(voltage, state='a stiff', action='voom', type='Norwegian Blue'):\n",
    "    print(\"\\n-- This parrot wouldn't\", action, end=' ')\n",
    "    print(\"if you put\", voltage, \"volts through it.\", end='\\n')\n",
    "    print(\"-- Lovely plumage, the\", type, end='\\n')\n",
    "    print(\"-- It's\", state, \"!\", end='\\n\\n')\n",
    "\n",
    "parrot(1000)                                         # 1 positional\n",
    "parrot(voltage=1000)                                 # 1 keyword\n",
    "parrot(voltage=1000000, action='VOOOOOM')            # 2 keyword\n",
    "parrot(action='VOOOOOM', voltage=1000000)            # 2 keyword\n",
    "parrot('a million', 'bereft of life', 'jump')        # 3 positional\n",
    "parrot('a thousand', state='pushing up the daisies') # 1 positional and\n",
    "                                                     # 1 keyword"
   ]
  },
  {
   "cell_type": "markdown",
   "metadata": {
    "id": "XKELQR7twpWb"
   },
   "source": [
    "## Modules\n",
    "\n",
    "Python has a flexible module system that allows you to group functions and other definitions of related functionality. These modules can then be imported.\n",
    "\n",
    "### Defining your own modules\n",
    "\n",
    "It’s very useful to group your code up into reusable packages.\n",
    "You can access code in saved files using the import directive.\n",
    "\n",
    "**NOTE**: In this course we will not be defining our own modules. We will, however, be importing definitions from many, many modules.\n"
   ]
  },
  {
   "cell_type": "code",
   "execution_count": 28,
   "metadata": {
    "id": "5HEbGJGbwpWc"
   },
   "outputs": [
    {
     "name": "stdout",
     "output_type": "stream",
     "text": [
      "0.0\n",
      "0.5877852522924731\n",
      "0.9510565162951535\n",
      "0.9510565162951536\n",
      "0.5877852522924732\n",
      "1.2246467991473532e-16\n",
      "-0.587785252292473\n",
      "-0.9510565162951535\n",
      "-0.9510565162951536\n",
      "-0.5877852522924734\n",
      "-2.4492935982947064e-16\n"
     ]
    }
   ],
   "source": [
    "# Import the standard Python math module. Do some trigonometry. Note that we must use the module name to access members.\n",
    "import math\n",
    "for i in range(11):\n",
    "  print(math.sin(i*2*math.pi/10))"
   ]
  },
  {
   "cell_type": "markdown",
   "metadata": {
    "id": "rFdvrQN9wpWh"
   },
   "source": [
    "### Importing and renaming\n",
    "You can directly import functions into the global namespace (be careful of name clashes)."
   ]
  },
  {
   "cell_type": "code",
   "execution_count": 29,
   "metadata": {
    "id": "_rJYat7ZwpWh"
   },
   "outputs": [
    {
     "name": "stdout",
     "output_type": "stream",
     "text": [
      "1.0\n",
      "0.8090169943749475\n",
      "0.30901699437494745\n",
      "-0.30901699437494734\n",
      "-0.8090169943749473\n",
      "-1.0\n",
      "-0.8090169943749475\n",
      "-0.30901699437494756\n",
      "0.30901699437494723\n",
      "0.8090169943749473\n",
      "1.0\n"
     ]
    }
   ],
   "source": [
    "# Or, we can explicityly import the functions into the global namespace. Now we do not need to qualify members with module name.\n",
    "from math import cos, pi\n",
    "for i in range(11):\n",
    "  print(cos(i*2*pi/10))"
   ]
  },
  {
   "cell_type": "markdown",
   "metadata": {
    "id": "0w7OVlmrwpWk"
   },
   "source": [
    "You can also import a module using an alias, which is convenient when using the same module name a lot."
   ]
  },
  {
   "cell_type": "code",
   "execution_count": 30,
   "metadata": {
    "id": "Bg88qynBwpWk"
   },
   "outputs": [
    {
     "name": "stdout",
     "output_type": "stream",
     "text": [
      "[0.0, 0.09983341664682815, 0.19866933079506122, 0.2955202066613396, 0.3894183423086505, 0.479425538604203, 0.5646424733950355, 0.6442176872376911, 0.7173560908995228, 0.7833269096274834, 0.8414709848078965, 0.8912073600614354, 0.9320390859672264, 0.963558185417193, 0.9854497299884603, 0.9974949866040544, 0.9995736030415051, 0.9916648104524686, 0.9738476308781951, 0.9463000876874145, 0.9092974268256817, 0.8632093666488737, 0.8084964038195901, 0.74570521217672, 0.6754631805511506, 0.5984721441039564, 0.5155013718214642, 0.4273798802338298, 0.33498815015590466, 0.23924932921398198, 0.1411200080598672, 0.04158066243329049, -0.058374143427580086, -0.15774569414324865, -0.25554110202683167, -0.35078322768961984, -0.44252044329485246, -0.5298361409084934, -0.6118578909427193, -0.6877661591839741, -0.7568024953079282, -0.8182771110644108, -0.8715757724135882, -0.9161659367494549, -0.9516020738895161, -0.977530117665097, -0.9936910036334645, -0.9999232575641008, -0.9961646088358406, -0.9824526126243325, -0.9589242746631385, -0.9258146823277321, -0.8834546557201531, -0.8322674422239008, -0.7727644875559871, -0.7055403255703919, -0.6312666378723208, -0.5506855425976376, -0.4646021794137566, -0.373876664830236, -0.27941549819892586, -0.18216250427209502, -0.0830894028174964]\n"
     ]
    }
   ],
   "source": [
    "# Another common pattern is to alias modules.\n",
    "import numpy as np\n",
    "sins = [np.sin(a) for a in np.arange(0, 2*pi, 0.1)]\n",
    "print(sins)"
   ]
  },
  {
   "cell_type": "code",
   "execution_count": 31,
   "metadata": {
    "id": "EH6oRuekwpWn"
   },
   "outputs": [],
   "source": [
    "#from fibos import *"
   ]
  },
  {
   "cell_type": "markdown",
   "metadata": {
    "id": "nGhDyd6MwpWp"
   },
   "source": [
    "## Classes and Objects\n",
    "A lot of Python code makes extensive use of object-oriented programming techniques. Classes have been added to the Python language with a minimum of new syntax to learn and remember.\n",
    "\n",
    "In this first crash course we will only introduce the basics.\n",
    "\n",
    "### Basic class definitions\n",
    "Class definitions, like function definitions (def statements) must be executed before\n",
    "they have any effect.\n",
    "The statements inside a class definition will usually be function definitions.\n",
    "Definitions inside a class normally have a peculiar form of argument list, dictated\n",
    "by the calling conventions for methods.\n",
    "When a class definition is entered, a new namespace is created, and used as the\n",
    "local scope — thus, all assignments to local variables go into this new namespace.\n",
    "When a class definition is left normally (via the end), a class object is created.\n",
    "\n",
    "- Note a few things:\n",
    "  - The variable **i** is defined in the class scope (a *member\n",
    "    variable*, or field, or *property*.\n",
    "  - Every instance of **MyClass** will have one.\n",
    "  - *VERY IMPORTANT*: the scope of member function bodies does\n",
    "    *NOT* contain the class scope itself.\n",
    "  - You *MUST* use the **self.** prefix to access members."
   ]
  },
  {
   "cell_type": "code",
   "execution_count": 32,
   "metadata": {
    "id": "Qs8MICpKwpWr"
   },
   "outputs": [
    {
     "name": "stdout",
     "output_type": "stream",
     "text": [
      "12345\n",
      "hello world\n",
      "12345\n",
      "goodbye world\n",
      "54321\n"
     ]
    }
   ],
   "source": [
    "class MyClass:\n",
    "    \"\"\"A simple example class\"\"\"\n",
    "    i = 12345\n",
    "    def f(self):\n",
    "        i = 54321\n",
    "        return 'hello world'\n",
    "\n",
    "    def f2(self):\n",
    "        self.i = 54321\n",
    "        return 'goodbye world'\n",
    "    \n",
    "foo = MyClass()\n",
    "print(foo.i)\n",
    "print(foo.f())\n",
    "print(foo.i)\n",
    "print(foo.f2())\n",
    "print(foo.i)"
   ]
  },
  {
   "cell_type": "markdown",
   "metadata": {
    "id": "81ROKrt3wpWt"
   },
   "source": [
    "Class objects support two kinds of operations: attribute\n",
    "references and instantiation. Attribute references use the standard syntax used for all\n",
    "attribute references in Python: **obj.name**.\n",
    "Valid attribute names are all the names that were in the class's\n",
    "namespace when the class object was created.\n",
    "*Advice*: don't use class attributes, which are kind of like\n",
    "*static class members*, instead assign attributes in the *constructor*.\n",
    "Class instantiation uses function notation. Just pretend that\n",
    "the class object is a parameterless function that returns a new\n",
    "instance of the class."
   ]
  },
  {
   "cell_type": "markdown",
   "metadata": {
    "id": "jVs6wmpMDcAT"
   },
   "source": [
    "##### Exercises\n",
    "\n",
    "Here are a few exercises for you to work through to practice your Python chops before the next lab."
   ]
  },
  {
   "cell_type": "markdown",
   "metadata": {
    "id": "JzlBn7wbDpQb"
   },
   "source": [
    "## Exercise 1.1: Less than N\n",
    "Take a list, say for example this one:\n",
    "\n",
    "  a = [1, 1, 2, 3, 5, 8, 13, 21, 34, 55, 89]\n",
    "\n",
    "and write a function that prints out all the elements of the list passed to it that **are less than N**.\n",
    "\n",
    "Extras:\n",
    "\n",
    "1. Instead of printing the elements one by one, make a new list that has all the elements less than N from this list in it and print out this new list.\n",
    "\n",
    "2. Write this function in one line of Python."
   ]
  },
  {
   "cell_type": "code",
   "execution_count": 33,
   "metadata": {
    "id": "8C9rzXOfEUkd"
   },
   "outputs": [
    {
     "name": "stdout",
     "output_type": "stream",
     "text": [
      "Select a number: \n",
      "12\n",
      "[1, 1, 2, 3, 5, 8]\n",
      "None\n"
     ]
    }
   ],
   "source": [
    "# Solution 1.1\n",
    "def less_than(a):\n",
    "    b = []\n",
    "    user_input = int(input('Select a number: \\n'))\n",
    "    for i in a:\n",
    "        if i < user_input:\n",
    "            b.append(i)\n",
    "    print(b)\n",
    "    \n",
    "a = [1, 1, 2, 3, 5, 8, 13, 21, 34, 55, 89]\n",
    "\n",
    "print(less_than(a))"
   ]
  },
  {
   "cell_type": "markdown",
   "metadata": {
    "id": "ldDwHPpZEst7"
   },
   "source": [
    "## Exercise 1.2: Remove Duplicates\n",
    "\n",
    "Write a function that takes a list and returns a new list that contains all the elements of the first list minus all the duplicates.\n",
    "\n",
    "**Hint**: what data structure can you use to make this easy?"
   ]
  },
  {
   "cell_type": "code",
   "execution_count": 34,
   "metadata": {
    "id": "93UfdSoGE9dy"
   },
   "outputs": [
    {
     "name": "stdout",
     "output_type": "stream",
     "text": [
      "[1, 2, 3, 5]\n"
     ]
    }
   ],
   "source": [
    "# Solution 1.2\n",
    "def remove_dups(l):\n",
    "     return list(set(l))\n",
    "\n",
    "a = [1, 1, 2, 3, 5]\n",
    "print(remove_dups(a))"
   ]
  },
  {
   "cell_type": "markdown",
   "metadata": {
    "id": "bJ5T9iL2FHrG"
   },
   "source": [
    "## Exercise 1.3: List Comprehensions\n",
    "\n",
    "Let’s say I give you a list saved in a variable: a = [1, 4, 9, 16, 25, 36, 49, 64, 81, 100]. Write one line of Python that takes this list a and makes a new list that has only the even elements of this list in it."
   ]
  },
  {
   "cell_type": "code",
   "execution_count": 35,
   "metadata": {
    "id": "jWuoja7GFl_L"
   },
   "outputs": [
    {
     "name": "stdout",
     "output_type": "stream",
     "text": [
      "[4, 16, 36, 64, 100]\n"
     ]
    }
   ],
   "source": [
    "# Solution 1.3\n",
    "a =[1, 4, 9, 16, 25, 36, 49, 64, 81, 100]\n",
    "b =[]\n",
    "for i in a:\n",
    "    if i%2==0:\n",
    "        b.append(i)\n",
    "print(b)"
   ]
  },
  {
   "cell_type": "markdown",
   "metadata": {
    "id": "w5UzSinZFz5o"
   },
   "source": [
    "## Exercise 1.4: First and Last\n",
    "Write a function that takes a list (for example, [5, 10, 15, 20, 25]) and makes returns a new **tuple** of only the first and last elements of the given list.\n"
   ]
  },
  {
   "cell_type": "code",
   "execution_count": 39,
   "metadata": {
    "id": "hbWF9-TKGDBi"
   },
   "outputs": [
    {
     "name": "stdout",
     "output_type": "stream",
     "text": [
      "(5, 25)\n"
     ]
    }
   ],
   "source": [
    "# Solution 1.4\n",
    "# Your solution goes here.\n",
    "def first_last(l):\n",
    "    n = len(l)\n",
    "    t = l[0], l[n-1]\n",
    "    return t\n",
    "    \n",
    "\n",
    "a= [5, 10, 15, 20, 25]\n",
    "print(first_last(a))"
   ]
  }
 ],
 "metadata": {
  "colab": {
   "collapsed_sections": [],
   "private_outputs": true,
   "provenance": []
  },
  "kernelspec": {
   "display_name": "Python 3 (ipykernel)",
   "language": "python",
   "name": "python3"
  },
  "language_info": {
   "codemirror_mode": {
    "name": "ipython",
    "version": 3
   },
   "file_extension": ".py",
   "mimetype": "text/x-python",
   "name": "python",
   "nbconvert_exporter": "python",
   "pygments_lexer": "ipython3",
   "version": "3.10.4"
  }
 },
 "nbformat": 4,
 "nbformat_minor": 1
}
