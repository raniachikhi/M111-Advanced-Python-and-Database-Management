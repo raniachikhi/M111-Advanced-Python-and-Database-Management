{
 "cells": [
  {
   "cell_type": "markdown",
   "id": "3bf3292a",
   "metadata": {},
   "source": [
    "### Exercice:\n",
    "\n",
    "Scraping weather forecase from the The Weather Channel website `weather.com` using `requests` and `BeautifulSoup` libraries.\n",
    "\n",
    "1. Implement a scraping script for getting 10 days weather forecasts of Benguerir city and Tanger City.\n",
    "2. Store the data sets into Pandas DataFrame.\n",
    "3. Use matplotlib library to plot the raining days of the two cities in the same figure.  \n"
   ]
  },
  {
   "cell_type": "markdown",
   "id": "a9fbd15d",
   "metadata": {},
   "source": [
    "### 1. Implement a scraping script for getting 10 days weather forecasts of Benguerir city and Tanger City."
   ]
  },
  {
   "cell_type": "markdown",
   "id": "5dca03fb",
   "metadata": {},
   "source": [
    "#### Benguerir city:"
   ]
  },
  {
   "cell_type": "code",
   "execution_count": 1,
   "id": "e2008bdb",
   "metadata": {},
   "outputs": [],
   "source": [
    "import bs4\n",
    "from bs4 import BeautifulSoup\n",
    "import requests\n",
    "import pandas as pd\n",
    "from datetime import datetime"
   ]
  },
  {
   "cell_type": "code",
   "execution_count": 2,
   "id": "7c5870d5",
   "metadata": {},
   "outputs": [],
   "source": [
    "file_benguerir = requests.get(\"https://weather.com/fr-MA/temps/10jours/l/f37580e42d804f6d54467e56dd9f296e15fe9a25db53ddee63601416ecc06111#detailIndex5\")"
   ]
  },
  {
   "cell_type": "code",
   "execution_count": 3,
   "id": "8126fc36",
   "metadata": {},
   "outputs": [
    {
     "name": "stdout",
     "output_type": "stream",
     "text": [
      "<Response [200]>\n"
     ]
    }
   ],
   "source": [
    "print(file_benguerir)"
   ]
  },
  {
   "cell_type": "code",
   "execution_count": 4,
   "id": "c0bef6bf",
   "metadata": {},
   "outputs": [],
   "source": [
    "soup_Benguerir =  BeautifulSoup(file_benguerir.content,'html.parser')\n",
    "#print(soup_Benguerir.prettify())"
   ]
  },
  {
   "cell_type": "code",
   "execution_count": 5,
   "id": "d1282564",
   "metadata": {},
   "outputs": [],
   "source": [
    "#create empty list\n",
    "content_B = []\n",
    "for items in range(10):\n",
    "    #create empty dictionary\n",
    "    dict = {}\n",
    "    try:\n",
    "        # assign value to given key\n",
    "        dict[\"Day\"] = soup_Benguerir.find_all(attrs={\"data-testid\" : \"daypartName\"})[items].text\n",
    "        dict[\"Indice UV\"] = soup_Benguerir.find_all(attrs={\"class\":\"DetailsTable--value--2YD0-\", \"data-testid\":\"UVIndexValue\"})[items].text\n",
    "        dict[\"Sunrise\"] = soup_Benguerir.find_all(attrs={\"class\" : \"DetailsTable--value--2YD0-\",\"data-testid\" : \"SunriseTime\"})[items].text\n",
    "        dict[\"Sunset\"] = soup_Benguerir.find_all(attrs={\"class\" : \"DetailsTable--value--2YD0-\",\"data-testid\" : \"SunsetTime\"})[items].text\n",
    "        dict[\"Desc\"] = soup_Benguerir.find_all(attrs={\"class\" : \"DetailsSummary--extendedData--307Ax\"})[2*items].text\n",
    "        dict[\"Low Temp Value\"] = soup_Benguerir.find_all(\"span\", {\"class\":\"DetailsSummary--lowTempValue--2tesQ\"})[items].text\n",
    "        dict[\"High Temp Value\"] = soup_Benguerir.find_all(\"span\", {\"class\":\"DetailsSummary--highTempValue--3PjlX\"})[items].text\n",
    "        dict[\"Precip\"] = soup_Benguerir.find_all(attrs={\"class\" : \"DailyContent--value--1Jers\",\"data-testid\" : \"PercentageValue\"})[items].text\n",
    "        dict[\"Wind\"] = soup_Benguerir.find_all(attrs={\"class\" : \"Wind--windWrapper--3Ly7c undefined\",\"data-testid\" : \"Wind\"})[items].text\n",
    "        dict[\"Humidity\"] = soup_Benguerir.find_all(attrs={\"class\":\"DetailsTable--value--2YD0-\", \"data-testid\":\"PercentageValue\"})[items].text\n",
    "    except:\n",
    "        dict[\"Day\"] = \"None\"\n",
    "        dict[\"Indice UV\"] = \"None\"\n",
    "        dict[\"Sunrise\"] = \"None\"\n",
    "        dict[\"Sunset\"] = \"None\"\n",
    "        dict[\"Desc\"] = \"None\"\n",
    "        dict[\"Low Temp Value\"] = \"None\"\n",
    "        dict[\"High Temp Value\"] = \"None\"\n",
    "        dict[\"Precip\"] = \"None\"\n",
    "        dict[\"Wind\"] = \"None\"\n",
    "        dict[\"Humidity\"] = \"None\"\n",
    "    content_B.append(dict)"
   ]
  },
  {
   "cell_type": "code",
   "execution_count": 6,
   "id": "ce83aa51",
   "metadata": {},
   "outputs": [
    {
     "data": {
      "text/plain": [
       "[{'Day': 'Aujourd’hui',\n",
       "  'Indice UV': '3 sur 10',\n",
       "  'Sunrise': '8:26',\n",
       "  'Sunset': '18:29',\n",
       "  'Desc': 'Ensoleillé',\n",
       "  'Low Temp Value': '8°',\n",
       "  'High Temp Value': '18°',\n",
       "  'Precip': '2%',\n",
       "  'Wind': 'NE 13 km/h',\n",
       "  'Humidity': '68%'},\n",
       " {'Day': 'dim. 18',\n",
       "  'Indice UV': '0 sur 10',\n",
       "  'Sunrise': '8:27',\n",
       "  'Sunset': '18:29',\n",
       "  'Desc': 'Ensoleillé',\n",
       "  'Low Temp Value': '8°',\n",
       "  'High Temp Value': '22°',\n",
       "  'Precip': '14%',\n",
       "  'Wind': 'SE 10 km/h',\n",
       "  'Humidity': '88%'},\n",
       " {'Day': 'lun. 19',\n",
       "  'Indice UV': '3 sur 10',\n",
       "  'Sunrise': '8:27',\n",
       "  'Sunset': '18:30',\n",
       "  'Desc': 'Plutôt ensoleillé',\n",
       "  'Low Temp Value': '7°',\n",
       "  'High Temp Value': '23°',\n",
       "  'Precip': '14%',\n",
       "  'Wind': 'E 12 km/h',\n",
       "  'Humidity': '75%'},\n",
       " {'Day': 'mar. 20',\n",
       "  'Indice UV': '0 sur 10',\n",
       "  'Sunrise': '8:28',\n",
       "  'Sunset': '18:30',\n",
       "  'Desc': 'Peu nuageux',\n",
       "  'Low Temp Value': '7°',\n",
       "  'High Temp Value': '22°',\n",
       "  'Precip': '10%',\n",
       "  'Wind': 'SSO 10 km/h',\n",
       "  'Humidity': '76%'},\n",
       " {'Day': 'mer. 21',\n",
       "  'Indice UV': '3 sur 10',\n",
       "  'Sunrise': '8:29',\n",
       "  'Sunset': '18:31',\n",
       "  'Desc': 'Ensoleillé',\n",
       "  'Low Temp Value': '7°',\n",
       "  'High Temp Value': '21°',\n",
       "  'Precip': '8%',\n",
       "  'Wind': 'ENE 13 km/h',\n",
       "  'Humidity': '60%'},\n",
       " {'Day': 'jeu. 22',\n",
       "  'Indice UV': '0 sur 10',\n",
       "  'Sunrise': '8:29',\n",
       "  'Sunset': '18:31',\n",
       "  'Desc': 'Ensoleillé',\n",
       "  'Low Temp Value': '6°',\n",
       "  'High Temp Value': '22°',\n",
       "  'Precip': '8%',\n",
       "  'Wind': 'ENE 11 km/h',\n",
       "  'Humidity': '68%'},\n",
       " {'Day': 'ven. 23',\n",
       "  'Indice UV': '3 sur 10',\n",
       "  'Sunrise': '8:30',\n",
       "  'Sunset': '18:32',\n",
       "  'Desc': 'Ensoleillé',\n",
       "  'Low Temp Value': '6°',\n",
       "  'High Temp Value': '22°',\n",
       "  'Precip': '8%',\n",
       "  'Wind': 'S 12 km/h',\n",
       "  'Humidity': '60%'},\n",
       " {'Day': 'sam. 24',\n",
       "  'Indice UV': '0 sur 10',\n",
       "  'Sunrise': '8:30',\n",
       "  'Sunset': '18:32',\n",
       "  'Desc': 'Ensoleillé',\n",
       "  'Low Temp Value': '6°',\n",
       "  'High Temp Value': '22°',\n",
       "  'Precip': '8%',\n",
       "  'Wind': 'S 12 km/h',\n",
       "  'Humidity': '71%'},\n",
       " {'Day': 'dim. 25',\n",
       "  'Indice UV': '3 sur 10',\n",
       "  'Sunrise': '8:30',\n",
       "  'Sunset': '18:33',\n",
       "  'Desc': 'Plutôt ensoleillé',\n",
       "  'Low Temp Value': '7°',\n",
       "  'High Temp Value': '21°',\n",
       "  'Precip': '8%',\n",
       "  'Wind': 'SSE 13 km/h',\n",
       "  'Humidity': '62%'},\n",
       " {'Day': 'lun. 26',\n",
       "  'Indice UV': '0 sur 10',\n",
       "  'Sunrise': '8:31',\n",
       "  'Sunset': '18:34',\n",
       "  'Desc': 'Peu nuageux',\n",
       "  'Low Temp Value': '8°',\n",
       "  'High Temp Value': '21°',\n",
       "  'Precip': '10%',\n",
       "  'Wind': 'S 17 km/h',\n",
       "  'Humidity': '79%'}]"
      ]
     },
     "execution_count": 6,
     "metadata": {},
     "output_type": "execute_result"
    }
   ],
   "source": [
    "content_B"
   ]
  },
  {
   "cell_type": "markdown",
   "id": "9050c4f4",
   "metadata": {},
   "source": [
    "#### Tanger city:"
   ]
  },
  {
   "cell_type": "code",
   "execution_count": 7,
   "id": "07233e85",
   "metadata": {},
   "outputs": [],
   "source": [
    "file_tanger = requests.get(\"https://weather.com/fr-MA/temps/10jours/l/d85f06e72cf2831588a6321bed1d67ed17af1d3d7fe060cc7f2c5ccbfa35e911\")"
   ]
  },
  {
   "cell_type": "code",
   "execution_count": 8,
   "id": "c2148197",
   "metadata": {},
   "outputs": [
    {
     "name": "stdout",
     "output_type": "stream",
     "text": [
      "<Response [200]>\n"
     ]
    }
   ],
   "source": [
    "print(file_tanger)"
   ]
  },
  {
   "cell_type": "code",
   "execution_count": 9,
   "id": "f06f6f1f",
   "metadata": {},
   "outputs": [],
   "source": [
    "soup_Tanger =  BeautifulSoup(file_tanger.content,'html.parser')\n",
    "#print(soup_Tanger.prettify())"
   ]
  },
  {
   "cell_type": "code",
   "execution_count": 10,
   "id": "4905c0ff",
   "metadata": {},
   "outputs": [],
   "source": [
    "#create empty list\n",
    "content_T = []\n",
    "for items in range(10):\n",
    "    #create empty dictionary\n",
    "    dict = {}\n",
    "    try:\n",
    "        # assign value to given key\n",
    "        dict[\"Day\"] = soup_Tanger.find_all(attrs={\"data-testid\" : \"daypartName\"})[items].text\n",
    "        dict[\"Indice UV\"] = soup_Tanger.find_all(attrs={\"class\":\"DetailsTable--value--2YD0-\", \"data-testid\":\"UVIndexValue\"})[items].text\n",
    "        dict[\"Sunrise\"] = soup_Tanger.find_all(attrs={\"class\" : \"DetailsTable--value--2YD0-\",\"data-testid\" : \"SunriseTime\"})[items].text\n",
    "        dict[\"Sunset\"] = soup_Tanger.find_all(attrs={\"class\" : \"DetailsTable--value--2YD0-\",\"data-testid\" : \"SunsetTime\"})[items].text\n",
    "        dict[\"Desc\"] = soup_Tanger.find_all(attrs={\"class\" : \"DetailsSummary--extendedData--307Ax\"})[2*items].text\n",
    "        dict[\"Low Temp Value\"] = soup_Tanger.find_all(\"span\", {\"class\":\"DetailsSummary--lowTempValue--2tesQ\"})[items].text\n",
    "        dict[\"High Temp Value\"] = soup_Tanger.find_all(\"span\", {\"class\":\"DetailsSummary--highTempValue--3PjlX\"})[items].text\n",
    "        dict[\"Precip\"] = soup_Tanger.find_all(attrs={\"class\" : \"DailyContent--value--1Jers\",\"data-testid\" : \"PercentageValue\"})[items].text\n",
    "        dict[\"Wind\"] = soup_Tanger.find_all(attrs={\"class\" : \"Wind--windWrapper--3Ly7c undefined\",\"data-testid\" : \"Wind\"})[items].text\n",
    "        dict[\"Humidity\"] = soup_Tanger.find_all(attrs={\"class\":\"DetailsTable--value--2YD0-\", \"data-testid\":\"PercentageValue\"})[items].text\n",
    "    except:\n",
    "        dict[\"Day\"] = \"None\"\n",
    "        dict[\"Indice UV\"] = \"None\"\n",
    "        dict[\"Sunrise\"] = \"None\"\n",
    "        dict[\"Sunset\"] = \"None\"\n",
    "        dict[\"Desc\"] = \"None\"\n",
    "        dict[\"Low Temp Value\"] = \"None\"\n",
    "        dict[\"High Temp Value\"] = \"None\"\n",
    "        dict[\"Precip\"] = \"None\"\n",
    "        dict[\"Wind\"] = \"None\"\n",
    "        dict[\"Humidity\"] = \"None\"\n",
    "    content_T.append(dict)"
   ]
  },
  {
   "cell_type": "code",
   "execution_count": 11,
   "id": "7bc9c01b",
   "metadata": {},
   "outputs": [
    {
     "data": {
      "text/plain": [
       "[{'Day': 'Aujourd’hui',\n",
       "  'Indice UV': '2 sur 10',\n",
       "  'Sunrise': '8:27',\n",
       "  'Sunset': '18:11',\n",
       "  'Desc': 'Peu nuageux',\n",
       "  'Low Temp Value': '11°',\n",
       "  'High Temp Value': '18°',\n",
       "  'Precip': '8%',\n",
       "  'Wind': 'OSO 9 km/h',\n",
       "  'Humidity': '85%'},\n",
       " {'Day': 'dim. 18',\n",
       "  'Indice UV': '0 sur 10',\n",
       "  'Sunrise': '8:27',\n",
       "  'Sunset': '18:12',\n",
       "  'Desc': 'Peu nuageux',\n",
       "  'Low Temp Value': '14°',\n",
       "  'High Temp Value': '20°',\n",
       "  'Precip': '14%',\n",
       "  'Wind': 'E 21 km/h',\n",
       "  'Humidity': '98%'},\n",
       " {'Day': 'lun. 19',\n",
       "  'Indice UV': '2 sur 10',\n",
       "  'Sunrise': '8:28',\n",
       "  'Sunset': '18:12',\n",
       "  'Desc': 'Plutôt ensoleillé',\n",
       "  'Low Temp Value': '12°',\n",
       "  'High Temp Value': '21°',\n",
       "  'Precip': '14%',\n",
       "  'Wind': 'E 15 km/h',\n",
       "  'Humidity': '86%'},\n",
       " {'Day': 'mar. 20',\n",
       "  'Indice UV': '0 sur 10',\n",
       "  'Sunrise': '8:29',\n",
       "  'Sunset': '18:13',\n",
       "  'Desc': \"Averses dans l'après-midi\",\n",
       "  'Low Temp Value': '15°',\n",
       "  'High Temp Value': '21°',\n",
       "  'Precip': '12%',\n",
       "  'Wind': 'SSE 15 km/h',\n",
       "  'Humidity': '92%'},\n",
       " {'Day': 'mer. 21',\n",
       "  'Indice UV': '2 sur 10',\n",
       "  'Sunrise': '8:29',\n",
       "  'Sunset': '18:13',\n",
       "  'Desc': 'Peu nuageux',\n",
       "  'Low Temp Value': '12°',\n",
       "  'High Temp Value': '19°',\n",
       "  'Precip': '14%',\n",
       "  'Wind': 'SO 10 km/h',\n",
       "  'Humidity': '84%'},\n",
       " {'Day': 'jeu. 22',\n",
       "  'Indice UV': '0 sur 10',\n",
       "  'Sunrise': '8:30',\n",
       "  'Sunset': '18:14',\n",
       "  'Desc': \"Brouillard dans la matinée / Soleil dans l'après-midi\",\n",
       "  'Low Temp Value': '11°',\n",
       "  'High Temp Value': '19°',\n",
       "  'Precip': '12%',\n",
       "  'Wind': 'N 7 km/h',\n",
       "  'Humidity': '95%'},\n",
       " {'Day': 'ven. 23',\n",
       "  'Indice UV': '2 sur 10',\n",
       "  'Sunrise': '8:30',\n",
       "  'Sunset': '18:14',\n",
       "  'Desc': 'Peu nuageux',\n",
       "  'Low Temp Value': '12°',\n",
       "  'High Temp Value': '18°',\n",
       "  'Precip': '43%',\n",
       "  'Wind': 'SO 7 km/h',\n",
       "  'Humidity': '79%'},\n",
       " {'Day': 'sam. 24',\n",
       "  'Indice UV': '0 sur 10',\n",
       "  'Sunrise': '8:30',\n",
       "  'Sunset': '18:15',\n",
       "  'Desc': 'Ensoleillé',\n",
       "  'Low Temp Value': '12°',\n",
       "  'High Temp Value': '19°',\n",
       "  'Precip': '84%',\n",
       "  'Wind': 'SO 9 km/h',\n",
       "  'Humidity': '89%'},\n",
       " {'Day': 'dim. 25',\n",
       "  'Indice UV': '2 sur 10',\n",
       "  'Sunrise': '8:31',\n",
       "  'Sunset': '18:15',\n",
       "  'Desc': 'Plutôt ensoleillé',\n",
       "  'Low Temp Value': '13°',\n",
       "  'High Temp Value': '19°',\n",
       "  'Precip': '17%',\n",
       "  'Wind': 'ESE 11 km/h',\n",
       "  'Humidity': '87%'},\n",
       " {'Day': 'lun. 26',\n",
       "  'Indice UV': '0 sur 10',\n",
       "  'Sunrise': '8:31',\n",
       "  'Sunset': '18:16',\n",
       "  'Desc': 'Averses',\n",
       "  'Low Temp Value': '13°',\n",
       "  'High Temp Value': '19°',\n",
       "  'Precip': '12%',\n",
       "  'Wind': 'ESE 16 km/h',\n",
       "  'Humidity': '96%'}]"
      ]
     },
     "execution_count": 11,
     "metadata": {},
     "output_type": "execute_result"
    }
   ],
   "source": [
    "content_T"
   ]
  },
  {
   "cell_type": "markdown",
   "id": "9067edc0",
   "metadata": {},
   "source": [
    "### 2. Store the data sets into Pandas DataFrame."
   ]
  },
  {
   "cell_type": "markdown",
   "id": "b50fff63",
   "metadata": {},
   "source": [
    "#### Benguerir city: "
   ]
  },
  {
   "cell_type": "code",
   "execution_count": 12,
   "id": "e3be1625",
   "metadata": {},
   "outputs": [],
   "source": [
    "Benguerir_data = pd.DataFrame(data= content_B)"
   ]
  },
  {
   "cell_type": "code",
   "execution_count": 13,
   "id": "33cdafb3",
   "metadata": {},
   "outputs": [
    {
     "data": {
      "text/html": [
       "<div>\n",
       "<style scoped>\n",
       "    .dataframe tbody tr th:only-of-type {\n",
       "        vertical-align: middle;\n",
       "    }\n",
       "\n",
       "    .dataframe tbody tr th {\n",
       "        vertical-align: top;\n",
       "    }\n",
       "\n",
       "    .dataframe thead th {\n",
       "        text-align: right;\n",
       "    }\n",
       "</style>\n",
       "<table border=\"1\" class=\"dataframe\">\n",
       "  <thead>\n",
       "    <tr style=\"text-align: right;\">\n",
       "      <th></th>\n",
       "      <th>Day</th>\n",
       "      <th>Indice UV</th>\n",
       "      <th>Sunrise</th>\n",
       "      <th>Sunset</th>\n",
       "      <th>Desc</th>\n",
       "      <th>Low Temp Value</th>\n",
       "      <th>High Temp Value</th>\n",
       "      <th>Precip</th>\n",
       "      <th>Wind</th>\n",
       "      <th>Humidity</th>\n",
       "    </tr>\n",
       "  </thead>\n",
       "  <tbody>\n",
       "    <tr>\n",
       "      <th>0</th>\n",
       "      <td>Aujourd’hui</td>\n",
       "      <td>3 sur 10</td>\n",
       "      <td>8:26</td>\n",
       "      <td>18:29</td>\n",
       "      <td>Ensoleillé</td>\n",
       "      <td>8°</td>\n",
       "      <td>18°</td>\n",
       "      <td>2%</td>\n",
       "      <td>NE 13 km/h</td>\n",
       "      <td>68%</td>\n",
       "    </tr>\n",
       "    <tr>\n",
       "      <th>1</th>\n",
       "      <td>dim. 18</td>\n",
       "      <td>0 sur 10</td>\n",
       "      <td>8:27</td>\n",
       "      <td>18:29</td>\n",
       "      <td>Ensoleillé</td>\n",
       "      <td>8°</td>\n",
       "      <td>22°</td>\n",
       "      <td>14%</td>\n",
       "      <td>SE 10 km/h</td>\n",
       "      <td>88%</td>\n",
       "    </tr>\n",
       "    <tr>\n",
       "      <th>2</th>\n",
       "      <td>lun. 19</td>\n",
       "      <td>3 sur 10</td>\n",
       "      <td>8:27</td>\n",
       "      <td>18:30</td>\n",
       "      <td>Plutôt ensoleillé</td>\n",
       "      <td>7°</td>\n",
       "      <td>23°</td>\n",
       "      <td>14%</td>\n",
       "      <td>E 12 km/h</td>\n",
       "      <td>75%</td>\n",
       "    </tr>\n",
       "    <tr>\n",
       "      <th>3</th>\n",
       "      <td>mar. 20</td>\n",
       "      <td>0 sur 10</td>\n",
       "      <td>8:28</td>\n",
       "      <td>18:30</td>\n",
       "      <td>Peu nuageux</td>\n",
       "      <td>7°</td>\n",
       "      <td>22°</td>\n",
       "      <td>10%</td>\n",
       "      <td>SSO 10 km/h</td>\n",
       "      <td>76%</td>\n",
       "    </tr>\n",
       "    <tr>\n",
       "      <th>4</th>\n",
       "      <td>mer. 21</td>\n",
       "      <td>3 sur 10</td>\n",
       "      <td>8:29</td>\n",
       "      <td>18:31</td>\n",
       "      <td>Ensoleillé</td>\n",
       "      <td>7°</td>\n",
       "      <td>21°</td>\n",
       "      <td>8%</td>\n",
       "      <td>ENE 13 km/h</td>\n",
       "      <td>60%</td>\n",
       "    </tr>\n",
       "    <tr>\n",
       "      <th>5</th>\n",
       "      <td>jeu. 22</td>\n",
       "      <td>0 sur 10</td>\n",
       "      <td>8:29</td>\n",
       "      <td>18:31</td>\n",
       "      <td>Ensoleillé</td>\n",
       "      <td>6°</td>\n",
       "      <td>22°</td>\n",
       "      <td>8%</td>\n",
       "      <td>ENE 11 km/h</td>\n",
       "      <td>68%</td>\n",
       "    </tr>\n",
       "    <tr>\n",
       "      <th>6</th>\n",
       "      <td>ven. 23</td>\n",
       "      <td>3 sur 10</td>\n",
       "      <td>8:30</td>\n",
       "      <td>18:32</td>\n",
       "      <td>Ensoleillé</td>\n",
       "      <td>6°</td>\n",
       "      <td>22°</td>\n",
       "      <td>8%</td>\n",
       "      <td>S 12 km/h</td>\n",
       "      <td>60%</td>\n",
       "    </tr>\n",
       "    <tr>\n",
       "      <th>7</th>\n",
       "      <td>sam. 24</td>\n",
       "      <td>0 sur 10</td>\n",
       "      <td>8:30</td>\n",
       "      <td>18:32</td>\n",
       "      <td>Ensoleillé</td>\n",
       "      <td>6°</td>\n",
       "      <td>22°</td>\n",
       "      <td>8%</td>\n",
       "      <td>S 12 km/h</td>\n",
       "      <td>71%</td>\n",
       "    </tr>\n",
       "    <tr>\n",
       "      <th>8</th>\n",
       "      <td>dim. 25</td>\n",
       "      <td>3 sur 10</td>\n",
       "      <td>8:30</td>\n",
       "      <td>18:33</td>\n",
       "      <td>Plutôt ensoleillé</td>\n",
       "      <td>7°</td>\n",
       "      <td>21°</td>\n",
       "      <td>8%</td>\n",
       "      <td>SSE 13 km/h</td>\n",
       "      <td>62%</td>\n",
       "    </tr>\n",
       "    <tr>\n",
       "      <th>9</th>\n",
       "      <td>lun. 26</td>\n",
       "      <td>0 sur 10</td>\n",
       "      <td>8:31</td>\n",
       "      <td>18:34</td>\n",
       "      <td>Peu nuageux</td>\n",
       "      <td>8°</td>\n",
       "      <td>21°</td>\n",
       "      <td>10%</td>\n",
       "      <td>S 17 km/h</td>\n",
       "      <td>79%</td>\n",
       "    </tr>\n",
       "  </tbody>\n",
       "</table>\n",
       "</div>"
      ],
      "text/plain": [
       "           Day Indice UV Sunrise Sunset               Desc Low Temp Value  \\\n",
       "0  Aujourd’hui  3 sur 10    8:26  18:29         Ensoleillé             8°   \n",
       "1      dim. 18  0 sur 10    8:27  18:29         Ensoleillé             8°   \n",
       "2      lun. 19  3 sur 10    8:27  18:30  Plutôt ensoleillé             7°   \n",
       "3      mar. 20  0 sur 10    8:28  18:30        Peu nuageux             7°   \n",
       "4      mer. 21  3 sur 10    8:29  18:31         Ensoleillé             7°   \n",
       "5      jeu. 22  0 sur 10    8:29  18:31         Ensoleillé             6°   \n",
       "6      ven. 23  3 sur 10    8:30  18:32         Ensoleillé             6°   \n",
       "7      sam. 24  0 sur 10    8:30  18:32         Ensoleillé             6°   \n",
       "8      dim. 25  3 sur 10    8:30  18:33  Plutôt ensoleillé             7°   \n",
       "9      lun. 26  0 sur 10    8:31  18:34        Peu nuageux             8°   \n",
       "\n",
       "  High Temp Value Precip         Wind Humidity  \n",
       "0             18°     2%   NE 13 km/h      68%  \n",
       "1             22°    14%   SE 10 km/h      88%  \n",
       "2             23°    14%    E 12 km/h      75%  \n",
       "3             22°    10%  SSO 10 km/h      76%  \n",
       "4             21°     8%  ENE 13 km/h      60%  \n",
       "5             22°     8%  ENE 11 km/h      68%  \n",
       "6             22°     8%    S 12 km/h      60%  \n",
       "7             22°     8%    S 12 km/h      71%  \n",
       "8             21°     8%  SSE 13 km/h      62%  \n",
       "9             21°    10%    S 17 km/h      79%  "
      ]
     },
     "execution_count": 13,
     "metadata": {},
     "output_type": "execute_result"
    }
   ],
   "source": [
    "Benguerir_data"
   ]
  },
  {
   "cell_type": "markdown",
   "id": "417fb987",
   "metadata": {},
   "source": [
    "#### Tanger city:"
   ]
  },
  {
   "cell_type": "code",
   "execution_count": 14,
   "id": "d072f79c",
   "metadata": {},
   "outputs": [],
   "source": [
    "Tanger_data = pd.DataFrame(data= content_T)"
   ]
  },
  {
   "cell_type": "code",
   "execution_count": 15,
   "id": "c50124f4",
   "metadata": {},
   "outputs": [
    {
     "data": {
      "text/html": [
       "<div>\n",
       "<style scoped>\n",
       "    .dataframe tbody tr th:only-of-type {\n",
       "        vertical-align: middle;\n",
       "    }\n",
       "\n",
       "    .dataframe tbody tr th {\n",
       "        vertical-align: top;\n",
       "    }\n",
       "\n",
       "    .dataframe thead th {\n",
       "        text-align: right;\n",
       "    }\n",
       "</style>\n",
       "<table border=\"1\" class=\"dataframe\">\n",
       "  <thead>\n",
       "    <tr style=\"text-align: right;\">\n",
       "      <th></th>\n",
       "      <th>Day</th>\n",
       "      <th>Indice UV</th>\n",
       "      <th>Sunrise</th>\n",
       "      <th>Sunset</th>\n",
       "      <th>Desc</th>\n",
       "      <th>Low Temp Value</th>\n",
       "      <th>High Temp Value</th>\n",
       "      <th>Precip</th>\n",
       "      <th>Wind</th>\n",
       "      <th>Humidity</th>\n",
       "    </tr>\n",
       "  </thead>\n",
       "  <tbody>\n",
       "    <tr>\n",
       "      <th>0</th>\n",
       "      <td>Aujourd’hui</td>\n",
       "      <td>2 sur 10</td>\n",
       "      <td>8:27</td>\n",
       "      <td>18:11</td>\n",
       "      <td>Peu nuageux</td>\n",
       "      <td>11°</td>\n",
       "      <td>18°</td>\n",
       "      <td>8%</td>\n",
       "      <td>OSO 9 km/h</td>\n",
       "      <td>85%</td>\n",
       "    </tr>\n",
       "    <tr>\n",
       "      <th>1</th>\n",
       "      <td>dim. 18</td>\n",
       "      <td>0 sur 10</td>\n",
       "      <td>8:27</td>\n",
       "      <td>18:12</td>\n",
       "      <td>Peu nuageux</td>\n",
       "      <td>14°</td>\n",
       "      <td>20°</td>\n",
       "      <td>14%</td>\n",
       "      <td>E 21 km/h</td>\n",
       "      <td>98%</td>\n",
       "    </tr>\n",
       "    <tr>\n",
       "      <th>2</th>\n",
       "      <td>lun. 19</td>\n",
       "      <td>2 sur 10</td>\n",
       "      <td>8:28</td>\n",
       "      <td>18:12</td>\n",
       "      <td>Plutôt ensoleillé</td>\n",
       "      <td>12°</td>\n",
       "      <td>21°</td>\n",
       "      <td>14%</td>\n",
       "      <td>E 15 km/h</td>\n",
       "      <td>86%</td>\n",
       "    </tr>\n",
       "    <tr>\n",
       "      <th>3</th>\n",
       "      <td>mar. 20</td>\n",
       "      <td>0 sur 10</td>\n",
       "      <td>8:29</td>\n",
       "      <td>18:13</td>\n",
       "      <td>Averses dans l'après-midi</td>\n",
       "      <td>15°</td>\n",
       "      <td>21°</td>\n",
       "      <td>12%</td>\n",
       "      <td>SSE 15 km/h</td>\n",
       "      <td>92%</td>\n",
       "    </tr>\n",
       "    <tr>\n",
       "      <th>4</th>\n",
       "      <td>mer. 21</td>\n",
       "      <td>2 sur 10</td>\n",
       "      <td>8:29</td>\n",
       "      <td>18:13</td>\n",
       "      <td>Peu nuageux</td>\n",
       "      <td>12°</td>\n",
       "      <td>19°</td>\n",
       "      <td>14%</td>\n",
       "      <td>SO 10 km/h</td>\n",
       "      <td>84%</td>\n",
       "    </tr>\n",
       "    <tr>\n",
       "      <th>5</th>\n",
       "      <td>jeu. 22</td>\n",
       "      <td>0 sur 10</td>\n",
       "      <td>8:30</td>\n",
       "      <td>18:14</td>\n",
       "      <td>Brouillard dans la matinée / Soleil dans l'apr...</td>\n",
       "      <td>11°</td>\n",
       "      <td>19°</td>\n",
       "      <td>12%</td>\n",
       "      <td>N 7 km/h</td>\n",
       "      <td>95%</td>\n",
       "    </tr>\n",
       "    <tr>\n",
       "      <th>6</th>\n",
       "      <td>ven. 23</td>\n",
       "      <td>2 sur 10</td>\n",
       "      <td>8:30</td>\n",
       "      <td>18:14</td>\n",
       "      <td>Peu nuageux</td>\n",
       "      <td>12°</td>\n",
       "      <td>18°</td>\n",
       "      <td>43%</td>\n",
       "      <td>SO 7 km/h</td>\n",
       "      <td>79%</td>\n",
       "    </tr>\n",
       "    <tr>\n",
       "      <th>7</th>\n",
       "      <td>sam. 24</td>\n",
       "      <td>0 sur 10</td>\n",
       "      <td>8:30</td>\n",
       "      <td>18:15</td>\n",
       "      <td>Ensoleillé</td>\n",
       "      <td>12°</td>\n",
       "      <td>19°</td>\n",
       "      <td>84%</td>\n",
       "      <td>SO 9 km/h</td>\n",
       "      <td>89%</td>\n",
       "    </tr>\n",
       "    <tr>\n",
       "      <th>8</th>\n",
       "      <td>dim. 25</td>\n",
       "      <td>2 sur 10</td>\n",
       "      <td>8:31</td>\n",
       "      <td>18:15</td>\n",
       "      <td>Plutôt ensoleillé</td>\n",
       "      <td>13°</td>\n",
       "      <td>19°</td>\n",
       "      <td>17%</td>\n",
       "      <td>ESE 11 km/h</td>\n",
       "      <td>87%</td>\n",
       "    </tr>\n",
       "    <tr>\n",
       "      <th>9</th>\n",
       "      <td>lun. 26</td>\n",
       "      <td>0 sur 10</td>\n",
       "      <td>8:31</td>\n",
       "      <td>18:16</td>\n",
       "      <td>Averses</td>\n",
       "      <td>13°</td>\n",
       "      <td>19°</td>\n",
       "      <td>12%</td>\n",
       "      <td>ESE 16 km/h</td>\n",
       "      <td>96%</td>\n",
       "    </tr>\n",
       "  </tbody>\n",
       "</table>\n",
       "</div>"
      ],
      "text/plain": [
       "           Day Indice UV Sunrise Sunset  \\\n",
       "0  Aujourd’hui  2 sur 10    8:27  18:11   \n",
       "1      dim. 18  0 sur 10    8:27  18:12   \n",
       "2      lun. 19  2 sur 10    8:28  18:12   \n",
       "3      mar. 20  0 sur 10    8:29  18:13   \n",
       "4      mer. 21  2 sur 10    8:29  18:13   \n",
       "5      jeu. 22  0 sur 10    8:30  18:14   \n",
       "6      ven. 23  2 sur 10    8:30  18:14   \n",
       "7      sam. 24  0 sur 10    8:30  18:15   \n",
       "8      dim. 25  2 sur 10    8:31  18:15   \n",
       "9      lun. 26  0 sur 10    8:31  18:16   \n",
       "\n",
       "                                                Desc Low Temp Value  \\\n",
       "0                                        Peu nuageux            11°   \n",
       "1                                        Peu nuageux            14°   \n",
       "2                                  Plutôt ensoleillé            12°   \n",
       "3                          Averses dans l'après-midi            15°   \n",
       "4                                        Peu nuageux            12°   \n",
       "5  Brouillard dans la matinée / Soleil dans l'apr...            11°   \n",
       "6                                        Peu nuageux            12°   \n",
       "7                                         Ensoleillé            12°   \n",
       "8                                  Plutôt ensoleillé            13°   \n",
       "9                                            Averses            13°   \n",
       "\n",
       "  High Temp Value Precip         Wind Humidity  \n",
       "0             18°     8%   OSO 9 km/h      85%  \n",
       "1             20°    14%    E 21 km/h      98%  \n",
       "2             21°    14%    E 15 km/h      86%  \n",
       "3             21°    12%  SSE 15 km/h      92%  \n",
       "4             19°    14%   SO 10 km/h      84%  \n",
       "5             19°    12%     N 7 km/h      95%  \n",
       "6             18°    43%    SO 7 km/h      79%  \n",
       "7             19°    84%    SO 9 km/h      89%  \n",
       "8             19°    17%  ESE 11 km/h      87%  \n",
       "9             19°    12%  ESE 16 km/h      96%  "
      ]
     },
     "execution_count": 15,
     "metadata": {},
     "output_type": "execute_result"
    }
   ],
   "source": [
    "Tanger_data"
   ]
  },
  {
   "cell_type": "markdown",
   "id": "9f992ebc",
   "metadata": {},
   "source": [
    "### 3. Use matplotlib library to plot the raining days of the two cities in the same figure."
   ]
  },
  {
   "cell_type": "code",
   "execution_count": 16,
   "id": "cde5cea3",
   "metadata": {},
   "outputs": [],
   "source": [
    "Precip_B = Benguerir_data[\"Precip\"]\n",
    "Precip_T = Tanger_data[\"Precip\"]"
   ]
  },
  {
   "cell_type": "code",
   "execution_count": 17,
   "id": "33388bd2",
   "metadata": {},
   "outputs": [
    {
     "data": {
      "text/plain": [
       "0     2%\n",
       "1    14%\n",
       "2    14%\n",
       "3    10%\n",
       "4     8%\n",
       "5     8%\n",
       "6     8%\n",
       "7     8%\n",
       "8     8%\n",
       "9    10%\n",
       "Name: Precip, dtype: object"
      ]
     },
     "execution_count": 17,
     "metadata": {},
     "output_type": "execute_result"
    }
   ],
   "source": [
    "Precip_B"
   ]
  },
  {
   "cell_type": "code",
   "execution_count": 18,
   "id": "944b4d9e",
   "metadata": {},
   "outputs": [
    {
     "data": {
      "text/plain": [
       "0     8%\n",
       "1    14%\n",
       "2    14%\n",
       "3    12%\n",
       "4    14%\n",
       "5    12%\n",
       "6    43%\n",
       "7    84%\n",
       "8    17%\n",
       "9    12%\n",
       "Name: Precip, dtype: object"
      ]
     },
     "execution_count": 18,
     "metadata": {},
     "output_type": "execute_result"
    }
   ],
   "source": [
    "Precip_T"
   ]
  },
  {
   "cell_type": "code",
   "execution_count": 19,
   "id": "73fe8f55",
   "metadata": {},
   "outputs": [],
   "source": [
    "def rain(p):\n",
    "    B = []\n",
    "    for i in range(10):\n",
    "        value = p[i]\n",
    "        float_value = float(value.replace('%', ''))\n",
    "        B.append(float_value)\n",
    "    return B"
   ]
  },
  {
   "cell_type": "code",
   "execution_count": 20,
   "id": "f2603c08",
   "metadata": {},
   "outputs": [],
   "source": [
    "B = rain(Precip_B)"
   ]
  },
  {
   "cell_type": "code",
   "execution_count": 21,
   "id": "35457f46",
   "metadata": {},
   "outputs": [
    {
     "data": {
      "text/plain": [
       "[2.0, 14.0, 14.0, 10.0, 8.0, 8.0, 8.0, 8.0, 8.0, 10.0]"
      ]
     },
     "execution_count": 21,
     "metadata": {},
     "output_type": "execute_result"
    }
   ],
   "source": [
    "B"
   ]
  },
  {
   "cell_type": "code",
   "execution_count": 22,
   "id": "51cd8b75",
   "metadata": {},
   "outputs": [],
   "source": [
    "T = rain(Precip_T)"
   ]
  },
  {
   "cell_type": "code",
   "execution_count": 23,
   "id": "e824ade3",
   "metadata": {},
   "outputs": [
    {
     "data": {
      "text/plain": [
       "[8.0, 14.0, 14.0, 12.0, 14.0, 12.0, 43.0, 84.0, 17.0, 12.0]"
      ]
     },
     "execution_count": 23,
     "metadata": {},
     "output_type": "execute_result"
    }
   ],
   "source": [
    "T"
   ]
  },
  {
   "cell_type": "code",
   "execution_count": 24,
   "id": "083fe193",
   "metadata": {},
   "outputs": [],
   "source": [
    "import matplotlib.pyplot as plt"
   ]
  },
  {
   "cell_type": "code",
   "execution_count": 25,
   "id": "43ac2052",
   "metadata": {},
   "outputs": [
    {
     "data": {
      "image/png": "[encoded data removed]",
      "text/plain": [
       "<Figure size 1000x1000 with 1 Axes>"
      ]
     },
     "metadata": {},
     "output_type": "display_data"
    }
   ],
   "source": [
    "plt.figure(figsize=(10,10))\n",
    "plt.plot(Benguerir_data['Day'],B,label='Benguerir', color='red')\n",
    "plt.plot(Tanger_data['Day'],T,label='Tanger', color='green')\n",
    "plt.xlabel('Days', c='b')\n",
    "plt.ylabel('Precipitation in %', c='b')\n",
    "plt.title('Percentage Value of rain for the next 10 days in Benguerir and Tanger', c='b')\n",
    "plt.grid()\n",
    "plt.legend()\n",
    "plt.show()"
   ]
  }
 ],
 "metadata": {
  "kernelspec": {
   "display_name": "Python 3 (ipykernel)",
   "language": "python",
   "name": "python3"
  },
  "language_info": {
   "codemirror_mode": {
    "name": "ipython",
    "version": 3
   },
   "file_extension": ".py",
   "mimetype": "text/x-python",
   "name": "python",
   "nbconvert_exporter": "python",
   "pygments_lexer": "ipython3",
   "version": "3.8.10"
  }
 },
 "nbformat": 4,
 "nbformat_minor": 5
}
